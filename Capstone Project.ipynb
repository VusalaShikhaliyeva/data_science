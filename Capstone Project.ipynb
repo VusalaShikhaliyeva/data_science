{
 "cells": [
  {
   "cell_type": "markdown",
   "metadata": {
    "collapsed": true
   },
   "source": [
    "# What is the best location for new bookstore and bookcafe in Baku?\n",
    "## Vusala Shikhaliyeva\n",
    "### This notebook is based on Capstone Project in Coursera courses\n",
    "#### Week1"
   ]
  },
  {
   "cell_type": "markdown",
   "metadata": {},
   "source": [
    "##  Problem"
   ]
  },
  {
   "cell_type": "markdown",
   "metadata": {},
   "source": [
    "Reading books and working in the good and quite environment is the most popular relax places all over the world. Coffeeshops, bookshops and bookstores are the best places for remote workers and book readers. In Baku, Azerbaijan there are some number of bookstores but they are located nearly in the same location or neighborhood. So, this project will try to find the best locations for building new coffeeshops, bookshops and bookstores."
   ]
  },
  {
   "cell_type": "markdown",
   "metadata": {},
   "source": [
    "## Question"
   ]
  },
  {
   "cell_type": "markdown",
   "metadata": {},
   "source": [
    "In this project the most suitable location, population age preferences and other information needed by people who want to build a bookshops and bookstores business at the Baku city to see:\n",
    "\n",
    "- Which location of Baku should a new coffeeshop, bookshop or bookstore be located?\n",
    "- What type of coffeeshope or bookstore would be best in a given location?\n",
    "- Which types of coffeeshops/bookshops would be pleasent for the customers? "
   ]
  },
  {
   "cell_type": "markdown",
   "metadata": {},
   "source": [
    "## Data"
   ]
  },
  {
   "cell_type": "markdown",
   "metadata": {},
   "source": [
    "The Capital of Azerbaijan is chosen because it is the capital of developing country:\n",
    "\n",
    "- About 2.3 million people are registered and about 3.5 million people are living in Baku.\n",
    "- The existence of real coffeeshops', bookshops' or bookcafes' data.\n",
    "- the locations of existent coffeeshops, bookshops and bookshops are separated rarely.\n",
    "- The availability of geo data which can be used to visualize the dataset onto a map.\n",
    "\n",
    "The main data used for this project will be from these sources:\n",
    "\n",
    "- Data from FourSquare API about all bookshops and bookcafes in Baku \n",
    "- List of regions of Baku\n",
    "- Latitude and longitude coordinates of these neighborhoods. We need it for plotting map and get the data for venue."
   ]
  },
  {
   "cell_type": "markdown",
   "metadata": {},
   "source": [
    "## Data Collection"
   ]
  },
  {
   "cell_type": "markdown",
   "metadata": {},
   "source": [
    "The avability of the neighborhoods can be read form Wikipedia. For today the capital of Azerbaijan has 12 neighborhoods totally. We will use scrapping methods: Python packages such as requests and BeatifulSoup. We can utilize the geocode of each neighborhood in Baku, and will get the exact location of them. We will use Foursquare API to order to get venue data for neighborhoods. Additionally, using this API we will get crucial categorical information which help to figure out business problem of my project. In this project, Web Scrapping, working with Foursquare API, data cleaning and wrangling, machine learning and map visualization."
   ]
  }
 ],
 "metadata": {
  "kernelspec": {
   "display_name": "Python 3.6",
   "language": "python",
   "name": "python3"
  },
  "language_info": {
   "codemirror_mode": {
    "name": "ipython",
    "version": 3
   },
   "file_extension": ".py",
   "mimetype": "text/x-python",
   "name": "python",
   "nbconvert_exporter": "python",
   "pygments_lexer": "ipython3",
   "version": "3.6.8"
  }
 },
 "nbformat": 4,
 "nbformat_minor": 1
}
